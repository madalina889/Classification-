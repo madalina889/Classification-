{
  "nbformat": 4,
  "nbformat_minor": 0,
  "metadata": {
    "colab": {
      "provenance": []
    },
    "kernelspec": {
      "name": "python3",
      "display_name": "Python 3"
    },
    "language_info": {
      "name": "python"
    }
  },
  "cells": [
    {
      "cell_type": "markdown",
      "source": [
        "***Importing the necessary modules***"
      ],
      "metadata": {
        "id": "zLH9k1pD84oC"
      }
    },
    {
      "cell_type": "code",
      "execution_count": null,
      "metadata": {
        "id": "wzofG76r6WWj"
      },
      "outputs": [],
      "source": [
        "import pandas as pd\n",
        "from sklearn.model_selection import train_test_split\n",
        "from sklearn.metrics import accuracy_score\n",
        "from sklearn.preprocessing import OneHotEncoder, LabelEncoder, StandardScaler\n",
        "from sklearn.linear_model import LogisticRegression\n",
        "from sklearn.svm import SVC\n",
        "from sklearn.neighbors import KNeighborsClassifier\n",
        "from sklearn.tree import DecisionTreeClassifier\n",
        "from sklearn.ensemble import RandomForestClassifier\n",
        "\n",
        "import MiniGroup3\n",
        "\n"
      ]
    },
    {
      "cell_type": "markdown",
      "source": [
        "**Loading in the data set**\n",
        "\n",
        "This dataset is randomly collected from an Iranian telecom company's database\n",
        "over a period of 12 months. A total of 3150 rows of data, each representing a\n",
        "customer, bear information for 13 columns. The attributes that are in this\n",
        "dataset are call failures, frequency of SMS, number of complaints, number of\n",
        "distinct calls, subscription length, age group, the charge amount, type of\n",
        "service, seconds of use, status, frequency of use, and Customer Value."
      ],
      "metadata": {
        "id": "KDr1RaJ88tmT"
      }
    },
    {
      "cell_type": "code",
      "source": [
        "df = pd.read_csv('https://static.bc-edx.com/ai/ail-v-1-0/m13/lesson_3/datasets/customer-churn.csv')\n",
        "df.head()\n"
      ],
      "metadata": {
        "id": "JqCpjnkk7CfH",
        "colab": {
          "base_uri": "https://localhost:8080/",
          "height": 224
        },
        "outputId": "799d31bb-4ca4-4ba1-9043-5c990e0e7984"
      },
      "execution_count": null,
      "outputs": [
        {
          "output_type": "execute_result",
          "data": {
            "text/plain": [
              "   Call  Failure  Complains  Subscription  Length  Charge  Amount  \\\n",
              "0              8          0                    38               0   \n",
              "1              0          0                    39               0   \n",
              "2             10          0                    37               0   \n",
              "3             10          0                    38               0   \n",
              "4              3          0                    38               0   \n",
              "\n",
              "   Seconds of Use  Frequency of use  Frequency of SMS  \\\n",
              "0            4370                71                 5   \n",
              "1             318                 5                 7   \n",
              "2            2453                60               359   \n",
              "3            4198                66                 1   \n",
              "4            2393                58                 2   \n",
              "\n",
              "   Distinct Called Numbers  Age Group  Tariff Plan  Status  Age  \\\n",
              "0                       17          3            1       1   30   \n",
              "1                        4          2            1       2   25   \n",
              "2                       24          3            1       1   30   \n",
              "3                       35          1            1       1   15   \n",
              "4                       33          1            1       1   15   \n",
              "\n",
              "   Customer Value  Churn  \n",
              "0         197.640      0  \n",
              "1          46.035      0  \n",
              "2        1536.520      0  \n",
              "3         240.020      0  \n",
              "4         145.805      0  "
            ],
            "text/html": [
              "\n",
              "  <div id=\"df-1c06c909-166b-45ff-9195-b5560be7a0ef\" class=\"colab-df-container\">\n",
              "    <div>\n",
              "<style scoped>\n",
              "    .dataframe tbody tr th:only-of-type {\n",
              "        vertical-align: middle;\n",
              "    }\n",
              "\n",
              "    .dataframe tbody tr th {\n",
              "        vertical-align: top;\n",
              "    }\n",
              "\n",
              "    .dataframe thead th {\n",
              "        text-align: right;\n",
              "    }\n",
              "</style>\n",
              "<table border=\"1\" class=\"dataframe\">\n",
              "  <thead>\n",
              "    <tr style=\"text-align: right;\">\n",
              "      <th></th>\n",
              "      <th>Call  Failure</th>\n",
              "      <th>Complains</th>\n",
              "      <th>Subscription  Length</th>\n",
              "      <th>Charge  Amount</th>\n",
              "      <th>Seconds of Use</th>\n",
              "      <th>Frequency of use</th>\n",
              "      <th>Frequency of SMS</th>\n",
              "      <th>Distinct Called Numbers</th>\n",
              "      <th>Age Group</th>\n",
              "      <th>Tariff Plan</th>\n",
              "      <th>Status</th>\n",
              "      <th>Age</th>\n",
              "      <th>Customer Value</th>\n",
              "      <th>Churn</th>\n",
              "    </tr>\n",
              "  </thead>\n",
              "  <tbody>\n",
              "    <tr>\n",
              "      <th>0</th>\n",
              "      <td>8</td>\n",
              "      <td>0</td>\n",
              "      <td>38</td>\n",
              "      <td>0</td>\n",
              "      <td>4370</td>\n",
              "      <td>71</td>\n",
              "      <td>5</td>\n",
              "      <td>17</td>\n",
              "      <td>3</td>\n",
              "      <td>1</td>\n",
              "      <td>1</td>\n",
              "      <td>30</td>\n",
              "      <td>197.640</td>\n",
              "      <td>0</td>\n",
              "    </tr>\n",
              "    <tr>\n",
              "      <th>1</th>\n",
              "      <td>0</td>\n",
              "      <td>0</td>\n",
              "      <td>39</td>\n",
              "      <td>0</td>\n",
              "      <td>318</td>\n",
              "      <td>5</td>\n",
              "      <td>7</td>\n",
              "      <td>4</td>\n",
              "      <td>2</td>\n",
              "      <td>1</td>\n",
              "      <td>2</td>\n",
              "      <td>25</td>\n",
              "      <td>46.035</td>\n",
              "      <td>0</td>\n",
              "    </tr>\n",
              "    <tr>\n",
              "      <th>2</th>\n",
              "      <td>10</td>\n",
              "      <td>0</td>\n",
              "      <td>37</td>\n",
              "      <td>0</td>\n",
              "      <td>2453</td>\n",
              "      <td>60</td>\n",
              "      <td>359</td>\n",
              "      <td>24</td>\n",
              "      <td>3</td>\n",
              "      <td>1</td>\n",
              "      <td>1</td>\n",
              "      <td>30</td>\n",
              "      <td>1536.520</td>\n",
              "      <td>0</td>\n",
              "    </tr>\n",
              "    <tr>\n",
              "      <th>3</th>\n",
              "      <td>10</td>\n",
              "      <td>0</td>\n",
              "      <td>38</td>\n",
              "      <td>0</td>\n",
              "      <td>4198</td>\n",
              "      <td>66</td>\n",
              "      <td>1</td>\n",
              "      <td>35</td>\n",
              "      <td>1</td>\n",
              "      <td>1</td>\n",
              "      <td>1</td>\n",
              "      <td>15</td>\n",
              "      <td>240.020</td>\n",
              "      <td>0</td>\n",
              "    </tr>\n",
              "    <tr>\n",
              "      <th>4</th>\n",
              "      <td>3</td>\n",
              "      <td>0</td>\n",
              "      <td>38</td>\n",
              "      <td>0</td>\n",
              "      <td>2393</td>\n",
              "      <td>58</td>\n",
              "      <td>2</td>\n",
              "      <td>33</td>\n",
              "      <td>1</td>\n",
              "      <td>1</td>\n",
              "      <td>1</td>\n",
              "      <td>15</td>\n",
              "      <td>145.805</td>\n",
              "      <td>0</td>\n",
              "    </tr>\n",
              "  </tbody>\n",
              "</table>\n",
              "</div>\n",
              "    <div class=\"colab-df-buttons\">\n",
              "\n",
              "  <div class=\"colab-df-container\">\n",
              "    <button class=\"colab-df-convert\" onclick=\"convertToInteractive('df-1c06c909-166b-45ff-9195-b5560be7a0ef')\"\n",
              "            title=\"Convert this dataframe to an interactive table.\"\n",
              "            style=\"display:none;\">\n",
              "\n",
              "  <svg xmlns=\"http://www.w3.org/2000/svg\" height=\"24px\" viewBox=\"0 -960 960 960\">\n",
              "    <path d=\"M120-120v-720h720v720H120Zm60-500h600v-160H180v160Zm220 220h160v-160H400v160Zm0 220h160v-160H400v160ZM180-400h160v-160H180v160Zm440 0h160v-160H620v160ZM180-180h160v-160H180v160Zm440 0h160v-160H620v160Z\"/>\n",
              "  </svg>\n",
              "    </button>\n",
              "\n",
              "  <style>\n",
              "    .colab-df-container {\n",
              "      display:flex;\n",
              "      gap: 12px;\n",
              "    }\n",
              "\n",
              "    .colab-df-convert {\n",
              "      background-color: #E8F0FE;\n",
              "      border: none;\n",
              "      border-radius: 50%;\n",
              "      cursor: pointer;\n",
              "      display: none;\n",
              "      fill: #1967D2;\n",
              "      height: 32px;\n",
              "      padding: 0 0 0 0;\n",
              "      width: 32px;\n",
              "    }\n",
              "\n",
              "    .colab-df-convert:hover {\n",
              "      background-color: #E2EBFA;\n",
              "      box-shadow: 0px 1px 2px rgba(60, 64, 67, 0.3), 0px 1px 3px 1px rgba(60, 64, 67, 0.15);\n",
              "      fill: #174EA6;\n",
              "    }\n",
              "\n",
              "    .colab-df-buttons div {\n",
              "      margin-bottom: 4px;\n",
              "    }\n",
              "\n",
              "    [theme=dark] .colab-df-convert {\n",
              "      background-color: #3B4455;\n",
              "      fill: #D2E3FC;\n",
              "    }\n",
              "\n",
              "    [theme=dark] .colab-df-convert:hover {\n",
              "      background-color: #434B5C;\n",
              "      box-shadow: 0px 1px 3px 1px rgba(0, 0, 0, 0.15);\n",
              "      filter: drop-shadow(0px 1px 2px rgba(0, 0, 0, 0.3));\n",
              "      fill: #FFFFFF;\n",
              "    }\n",
              "  </style>\n",
              "\n",
              "    <script>\n",
              "      const buttonEl =\n",
              "        document.querySelector('#df-1c06c909-166b-45ff-9195-b5560be7a0ef button.colab-df-convert');\n",
              "      buttonEl.style.display =\n",
              "        google.colab.kernel.accessAllowed ? 'block' : 'none';\n",
              "\n",
              "      async function convertToInteractive(key) {\n",
              "        const element = document.querySelector('#df-1c06c909-166b-45ff-9195-b5560be7a0ef');\n",
              "        const dataTable =\n",
              "          await google.colab.kernel.invokeFunction('convertToInteractive',\n",
              "                                                    [key], {});\n",
              "        if (!dataTable) return;\n",
              "\n",
              "        const docLinkHtml = 'Like what you see? Visit the ' +\n",
              "          '<a target=\"_blank\" href=https://colab.research.google.com/notebooks/data_table.ipynb>data table notebook</a>'\n",
              "          + ' to learn more about interactive tables.';\n",
              "        element.innerHTML = '';\n",
              "        dataTable['output_type'] = 'display_data';\n",
              "        await google.colab.output.renderOutput(dataTable, element);\n",
              "        const docLink = document.createElement('div');\n",
              "        docLink.innerHTML = docLinkHtml;\n",
              "        element.appendChild(docLink);\n",
              "      }\n",
              "    </script>\n",
              "  </div>\n",
              "\n",
              "\n",
              "<div id=\"df-00d095a1-04da-4b5e-814e-49729b1736b9\">\n",
              "  <button class=\"colab-df-quickchart\" onclick=\"quickchart('df-00d095a1-04da-4b5e-814e-49729b1736b9')\"\n",
              "            title=\"Suggest charts\"\n",
              "            style=\"display:none;\">\n",
              "\n",
              "<svg xmlns=\"http://www.w3.org/2000/svg\" height=\"24px\"viewBox=\"0 0 24 24\"\n",
              "     width=\"24px\">\n",
              "    <g>\n",
              "        <path d=\"M19 3H5c-1.1 0-2 .9-2 2v14c0 1.1.9 2 2 2h14c1.1 0 2-.9 2-2V5c0-1.1-.9-2-2-2zM9 17H7v-7h2v7zm4 0h-2V7h2v10zm4 0h-2v-4h2v4z\"/>\n",
              "    </g>\n",
              "</svg>\n",
              "  </button>\n",
              "\n",
              "<style>\n",
              "  .colab-df-quickchart {\n",
              "      --bg-color: #E8F0FE;\n",
              "      --fill-color: #1967D2;\n",
              "      --hover-bg-color: #E2EBFA;\n",
              "      --hover-fill-color: #174EA6;\n",
              "      --disabled-fill-color: #AAA;\n",
              "      --disabled-bg-color: #DDD;\n",
              "  }\n",
              "\n",
              "  [theme=dark] .colab-df-quickchart {\n",
              "      --bg-color: #3B4455;\n",
              "      --fill-color: #D2E3FC;\n",
              "      --hover-bg-color: #434B5C;\n",
              "      --hover-fill-color: #FFFFFF;\n",
              "      --disabled-bg-color: #3B4455;\n",
              "      --disabled-fill-color: #666;\n",
              "  }\n",
              "\n",
              "  .colab-df-quickchart {\n",
              "    background-color: var(--bg-color);\n",
              "    border: none;\n",
              "    border-radius: 50%;\n",
              "    cursor: pointer;\n",
              "    display: none;\n",
              "    fill: var(--fill-color);\n",
              "    height: 32px;\n",
              "    padding: 0;\n",
              "    width: 32px;\n",
              "  }\n",
              "\n",
              "  .colab-df-quickchart:hover {\n",
              "    background-color: var(--hover-bg-color);\n",
              "    box-shadow: 0 1px 2px rgba(60, 64, 67, 0.3), 0 1px 3px 1px rgba(60, 64, 67, 0.15);\n",
              "    fill: var(--button-hover-fill-color);\n",
              "  }\n",
              "\n",
              "  .colab-df-quickchart-complete:disabled,\n",
              "  .colab-df-quickchart-complete:disabled:hover {\n",
              "    background-color: var(--disabled-bg-color);\n",
              "    fill: var(--disabled-fill-color);\n",
              "    box-shadow: none;\n",
              "  }\n",
              "\n",
              "  .colab-df-spinner {\n",
              "    border: 2px solid var(--fill-color);\n",
              "    border-color: transparent;\n",
              "    border-bottom-color: var(--fill-color);\n",
              "    animation:\n",
              "      spin 1s steps(1) infinite;\n",
              "  }\n",
              "\n",
              "  @keyframes spin {\n",
              "    0% {\n",
              "      border-color: transparent;\n",
              "      border-bottom-color: var(--fill-color);\n",
              "      border-left-color: var(--fill-color);\n",
              "    }\n",
              "    20% {\n",
              "      border-color: transparent;\n",
              "      border-left-color: var(--fill-color);\n",
              "      border-top-color: var(--fill-color);\n",
              "    }\n",
              "    30% {\n",
              "      border-color: transparent;\n",
              "      border-left-color: var(--fill-color);\n",
              "      border-top-color: var(--fill-color);\n",
              "      border-right-color: var(--fill-color);\n",
              "    }\n",
              "    40% {\n",
              "      border-color: transparent;\n",
              "      border-right-color: var(--fill-color);\n",
              "      border-top-color: var(--fill-color);\n",
              "    }\n",
              "    60% {\n",
              "      border-color: transparent;\n",
              "      border-right-color: var(--fill-color);\n",
              "    }\n",
              "    80% {\n",
              "      border-color: transparent;\n",
              "      border-right-color: var(--fill-color);\n",
              "      border-bottom-color: var(--fill-color);\n",
              "    }\n",
              "    90% {\n",
              "      border-color: transparent;\n",
              "      border-bottom-color: var(--fill-color);\n",
              "    }\n",
              "  }\n",
              "</style>\n",
              "\n",
              "  <script>\n",
              "    async function quickchart(key) {\n",
              "      const quickchartButtonEl =\n",
              "        document.querySelector('#' + key + ' button');\n",
              "      quickchartButtonEl.disabled = true;  // To prevent multiple clicks.\n",
              "      quickchartButtonEl.classList.add('colab-df-spinner');\n",
              "      try {\n",
              "        const charts = await google.colab.kernel.invokeFunction(\n",
              "            'suggestCharts', [key], {});\n",
              "      } catch (error) {\n",
              "        console.error('Error during call to suggestCharts:', error);\n",
              "      }\n",
              "      quickchartButtonEl.classList.remove('colab-df-spinner');\n",
              "      quickchartButtonEl.classList.add('colab-df-quickchart-complete');\n",
              "    }\n",
              "    (() => {\n",
              "      let quickchartButtonEl =\n",
              "        document.querySelector('#df-00d095a1-04da-4b5e-814e-49729b1736b9 button');\n",
              "      quickchartButtonEl.style.display =\n",
              "        google.colab.kernel.accessAllowed ? 'block' : 'none';\n",
              "    })();\n",
              "  </script>\n",
              "</div>\n",
              "\n",
              "    </div>\n",
              "  </div>\n"
            ],
            "application/vnd.google.colaboratory.intrinsic+json": {
              "type": "dataframe",
              "variable_name": "df",
              "summary": "{\n  \"name\": \"df\",\n  \"rows\": 3150,\n  \"fields\": [\n    {\n      \"column\": \"Call  Failure\",\n      \"properties\": {\n        \"dtype\": \"number\",\n        \"std\": 7,\n        \"min\": 0,\n        \"max\": 36,\n        \"num_unique_values\": 37,\n        \"samples\": [\n          14,\n          21,\n          11\n        ],\n        \"semantic_type\": \"\",\n        \"description\": \"\"\n      }\n    },\n    {\n      \"column\": \"Complains\",\n      \"properties\": {\n        \"dtype\": \"number\",\n        \"std\": 0,\n        \"min\": 0,\n        \"max\": 1,\n        \"num_unique_values\": 2,\n        \"samples\": [\n          1,\n          0\n        ],\n        \"semantic_type\": \"\",\n        \"description\": \"\"\n      }\n    },\n    {\n      \"column\": \"Subscription  Length\",\n      \"properties\": {\n        \"dtype\": \"number\",\n        \"std\": 8,\n        \"min\": 3,\n        \"max\": 47,\n        \"num_unique_values\": 45,\n        \"samples\": [\n          3,\n          23\n        ],\n        \"semantic_type\": \"\",\n        \"description\": \"\"\n      }\n    },\n    {\n      \"column\": \"Charge  Amount\",\n      \"properties\": {\n        \"dtype\": \"number\",\n        \"std\": 1,\n        \"min\": 0,\n        \"max\": 10,\n        \"num_unique_values\": 11,\n        \"samples\": [\n          4,\n          0\n        ],\n        \"semantic_type\": \"\",\n        \"description\": \"\"\n      }\n    },\n    {\n      \"column\": \"Seconds of Use\",\n      \"properties\": {\n        \"dtype\": \"number\",\n        \"std\": 4197,\n        \"min\": 0,\n        \"max\": 17090,\n        \"num_unique_values\": 1756,\n        \"samples\": [\n          2633,\n          5115\n        ],\n        \"semantic_type\": \"\",\n        \"description\": \"\"\n      }\n    },\n    {\n      \"column\": \"Frequency of use\",\n      \"properties\": {\n        \"dtype\": \"number\",\n        \"std\": 57,\n        \"min\": 0,\n        \"max\": 255,\n        \"num_unique_values\": 242,\n        \"samples\": [\n          22,\n          39\n        ],\n        \"semantic_type\": \"\",\n        \"description\": \"\"\n      }\n    },\n    {\n      \"column\": \"Frequency of SMS\",\n      \"properties\": {\n        \"dtype\": \"number\",\n        \"std\": 112,\n        \"min\": 0,\n        \"max\": 522,\n        \"num_unique_values\": 405,\n        \"samples\": [\n          145,\n          195\n        ],\n        \"semantic_type\": \"\",\n        \"description\": \"\"\n      }\n    },\n    {\n      \"column\": \"Distinct Called Numbers\",\n      \"properties\": {\n        \"dtype\": \"number\",\n        \"std\": 17,\n        \"min\": 0,\n        \"max\": 97,\n        \"num_unique_values\": 92,\n        \"samples\": [\n          49,\n          31\n        ],\n        \"semantic_type\": \"\",\n        \"description\": \"\"\n      }\n    },\n    {\n      \"column\": \"Age Group\",\n      \"properties\": {\n        \"dtype\": \"number\",\n        \"std\": 0,\n        \"min\": 1,\n        \"max\": 5,\n        \"num_unique_values\": 5,\n        \"samples\": [\n          2,\n          5\n        ],\n        \"semantic_type\": \"\",\n        \"description\": \"\"\n      }\n    },\n    {\n      \"column\": \"Tariff Plan\",\n      \"properties\": {\n        \"dtype\": \"number\",\n        \"std\": 0,\n        \"min\": 1,\n        \"max\": 2,\n        \"num_unique_values\": 2,\n        \"samples\": [\n          2,\n          1\n        ],\n        \"semantic_type\": \"\",\n        \"description\": \"\"\n      }\n    },\n    {\n      \"column\": \"Status\",\n      \"properties\": {\n        \"dtype\": \"number\",\n        \"std\": 0,\n        \"min\": 1,\n        \"max\": 2,\n        \"num_unique_values\": 2,\n        \"samples\": [\n          2,\n          1\n        ],\n        \"semantic_type\": \"\",\n        \"description\": \"\"\n      }\n    },\n    {\n      \"column\": \"Age\",\n      \"properties\": {\n        \"dtype\": \"number\",\n        \"std\": 8,\n        \"min\": 15,\n        \"max\": 55,\n        \"num_unique_values\": 5,\n        \"samples\": [\n          25,\n          55\n        ],\n        \"semantic_type\": \"\",\n        \"description\": \"\"\n      }\n    },\n    {\n      \"column\": \"Customer Value\",\n      \"properties\": {\n        \"dtype\": \"number\",\n        \"std\": 517.0154327987642,\n        \"min\": 0.0,\n        \"max\": 2165.28,\n        \"num_unique_values\": 2654,\n        \"samples\": [\n          451.665,\n          111.96\n        ],\n        \"semantic_type\": \"\",\n        \"description\": \"\"\n      }\n    },\n    {\n      \"column\": \"Churn\",\n      \"properties\": {\n        \"dtype\": \"number\",\n        \"std\": 0,\n        \"min\": 0,\n        \"max\": 1,\n        \"num_unique_values\": 2,\n        \"samples\": [\n          1,\n          0\n        ],\n        \"semantic_type\": \"\",\n        \"description\": \"\"\n      }\n    }\n  ]\n}"
            }
          },
          "metadata": {},
          "execution_count": 2
        }
      ]
    },
    {
      "cell_type": "markdown",
      "source": [
        "***Checking for data type***\n",
        "\n",
        "\n",
        "* Dataset contained 3150 complete entries for each category;\n",
        "* Dataset contained only 1 column as a non-integer (float).\n"
      ],
      "metadata": {
        "id": "C8Utwy5E8lMk"
      }
    },
    {
      "cell_type": "code",
      "source": [
        "# Checking for data type\n",
        "df.info()\n"
      ],
      "metadata": {
        "colab": {
          "base_uri": "https://localhost:8080/"
        },
        "id": "vyzjF3TN7vEq",
        "outputId": "e35d7bab-9264-44d7-9b12-ec9186270053"
      },
      "execution_count": null,
      "outputs": [
        {
          "output_type": "stream",
          "name": "stdout",
          "text": [
            "<class 'pandas.core.frame.DataFrame'>\n",
            "RangeIndex: 3150 entries, 0 to 3149\n",
            "Data columns (total 14 columns):\n",
            " #   Column                   Non-Null Count  Dtype  \n",
            "---  ------                   --------------  -----  \n",
            " 0   Call  Failure            3150 non-null   int64  \n",
            " 1   Complains                3150 non-null   int64  \n",
            " 2   Subscription  Length     3150 non-null   int64  \n",
            " 3   Charge  Amount           3150 non-null   int64  \n",
            " 4   Seconds of Use           3150 non-null   int64  \n",
            " 5   Frequency of use         3150 non-null   int64  \n",
            " 6   Frequency of SMS         3150 non-null   int64  \n",
            " 7   Distinct Called Numbers  3150 non-null   int64  \n",
            " 8   Age Group                3150 non-null   int64  \n",
            " 9   Tariff Plan              3150 non-null   int64  \n",
            " 10  Status                   3150 non-null   int64  \n",
            " 11  Age                      3150 non-null   int64  \n",
            " 12  Customer Value           3150 non-null   float64\n",
            " 13  Churn                    3150 non-null   int64  \n",
            "dtypes: float64(1), int64(13)\n",
            "memory usage: 344.7 KB\n"
          ]
        }
      ]
    },
    {
      "cell_type": "markdown",
      "source": [
        "***Cleaning and preparing the data***\n",
        "\n",
        "1. No nulls, so no dropped rows needed;\n",
        "2. 'Customer Value' initially only non-integer column, converting from float to integer;\n",
        "3. Target is 'Churn';\n",
        "4. Scaling the data using StandardScaler;\n",
        "5. Running a train/test/split on the scaled data.\n",
        "\n"
      ],
      "metadata": {
        "id": "91-743T09MCm"
      }
    },
    {
      "cell_type": "code",
      "source": [
        "# Converting 'Customer Value' from float to int\n",
        "df['Customer Value'] = df['Customer Value'].astype(int)\n",
        "df.info()"
      ],
      "metadata": {
        "colab": {
          "base_uri": "https://localhost:8080/"
        },
        "id": "LQSDdykK_vUk",
        "outputId": "1dca291c-433c-4129-8d75-fa5b0316f36b"
      },
      "execution_count": null,
      "outputs": [
        {
          "output_type": "stream",
          "name": "stdout",
          "text": [
            "<class 'pandas.core.frame.DataFrame'>\n",
            "RangeIndex: 3150 entries, 0 to 3149\n",
            "Data columns (total 14 columns):\n",
            " #   Column                   Non-Null Count  Dtype\n",
            "---  ------                   --------------  -----\n",
            " 0   Call  Failure            3150 non-null   int64\n",
            " 1   Complains                3150 non-null   int64\n",
            " 2   Subscription  Length     3150 non-null   int64\n",
            " 3   Charge  Amount           3150 non-null   int64\n",
            " 4   Seconds of Use           3150 non-null   int64\n",
            " 5   Frequency of use         3150 non-null   int64\n",
            " 6   Frequency of SMS         3150 non-null   int64\n",
            " 7   Distinct Called Numbers  3150 non-null   int64\n",
            " 8   Age Group                3150 non-null   int64\n",
            " 9   Tariff Plan              3150 non-null   int64\n",
            " 10  Status                   3150 non-null   int64\n",
            " 11  Age                      3150 non-null   int64\n",
            " 12  Customer Value           3150 non-null   int64\n",
            " 13  Churn                    3150 non-null   int64\n",
            "dtypes: int64(14)\n",
            "memory usage: 344.7 KB\n"
          ]
        }
      ]
    },
    {
      "cell_type": "code",
      "source": [
        "# Setting target\n",
        "y = df['Churn']\n",
        "\n",
        "# Setting features\n",
        "X = df.copy()\n",
        "X = X.drop(columns='Churn')"
      ],
      "metadata": {
        "id": "wb3fSEv1B0fI"
      },
      "execution_count": null,
      "outputs": []
    },
    {
      "cell_type": "code",
      "source": [
        "# Splitting into train/test sets\n",
        "X_train, X_test, y_train, y_test = train_test_split(X, y, random_state=1)\n"
      ],
      "metadata": {
        "id": "W9jBzmHcDV5j"
      },
      "execution_count": null,
      "outputs": []
    },
    {
      "cell_type": "code",
      "source": [
        "# Instantiate scaler and scale features\n",
        "scaler = StandardScaler().fit(X_train)\n",
        "X_train_scaled = scaler.transform(X_train)\n",
        "X_test_scaled = scaler.transform(X_test)\n"
      ],
      "metadata": {
        "id": "I9DSjv0GD1qr"
      },
      "execution_count": null,
      "outputs": []
    },
    {
      "cell_type": "markdown",
      "source": [
        "***Model Training and Evaluation***\n",
        "\n",
        "1.   Logistic regression\n",
        "2.   K nearest-neighbors\n",
        "3.   Random forest\n"
      ],
      "metadata": {
        "id": "jSmngsVjF-Sr"
      }
    },
    {
      "cell_type": "code",
      "source": [
        "# Instantiating logistics regression\n",
        "lr = LogisticRegression(random_state=1).fit(X_train_scaled, y_train)\n",
        "\n",
        "# Running LR on both train and test data to find the difference in accuracy\n",
        "lr_train = lr.predict(X_train_scaled)\n",
        "lr_test = lr.predict(X_test_scaled)\n",
        "\n",
        "# Calculating and printing the accuracy\n",
        "lr_test_acc = accuracy_score(y_test, lr_test)\n",
        "lr_train_acc = accuracy_score(y_train, lr_train)\n",
        "print(f'Logistic Regression Train Accuracy: {lr_train_acc}')\n",
        "print(f'Logistic Regression Test Accuracy: {lr_test_acc}')\n"
      ],
      "metadata": {
        "colab": {
          "base_uri": "https://localhost:8080/"
        },
        "id": "ACSzA1Z2Ghzu",
        "outputId": "2ca6d2ee-0ca1-4003-c081-97348303f164"
      },
      "execution_count": null,
      "outputs": [
        {
          "output_type": "stream",
          "name": "stdout",
          "text": [
            "Logistic Regression Train Accuracy: 0.8966977138018628\n",
            "Logistic Regression Test Accuracy: 0.8934010152284264\n"
          ]
        }
      ]
    },
    {
      "cell_type": "code",
      "source": [
        "knn = KNeighborsClassifier(n_neighbors=5).fit(X_train_scaled, y_train)\n",
        "knn_train = knn.predict(X_train_scaled)\n",
        "knn_test = knn.predict(X_test_scaled)\n",
        "\n",
        "# Calculating and printing the accuracy\n",
        "knn_test_acc = accuracy_score(y_test, knn_test)\n",
        "knn_train_acc = accuracy_score(y_train, knn_train)\n",
        "print(f'KNN Train Accuracy: {knn_train_acc}')\n",
        "print(f'KNN Test Accuracy: {knn_test_acc}')"
      ],
      "metadata": {
        "colab": {
          "base_uri": "https://localhost:8080/"
        },
        "id": "Ev_khEeFIMIv",
        "outputId": "527d3797-7360-466d-b7bf-d40ab2655ff2"
      },
      "execution_count": null,
      "outputs": [
        {
          "output_type": "stream",
          "name": "stdout",
          "text": [
            "KNN Train Accuracy: 0.9657070279424217\n",
            "KNN Test Accuracy: 0.949238578680203\n"
          ]
        }
      ]
    },
    {
      "cell_type": "code",
      "source": [
        "rf = RandomForestClassifier(n_estimators=128, random_state=1).fit(X_train_scaled, y_train)\n",
        "rf_train = rf.predict(X_train_scaled)\n",
        "rf_test = rf.predict(X_test_scaled)\n",
        "\n",
        "# Calculating and printing the accuracy\n",
        "rf_test_acc = accuracy_score(y_test, rf_test)\n",
        "rf_train_acc = accuracy_score(y_train, rf_train)\n",
        "print(f'Random Forest Train Accuracy: {rf_train_acc}')\n",
        "print(f'Random Forest Test Accuracy: {rf_test_acc}')"
      ],
      "metadata": {
        "colab": {
          "base_uri": "https://localhost:8080/"
        },
        "id": "sqGMiMo2IjH5",
        "outputId": "0d063261-a468-4c30-e08f-7399e01f3d72"
      },
      "execution_count": null,
      "outputs": [
        {
          "output_type": "stream",
          "name": "stdout",
          "text": [
            "Random Forest Train Accuracy: 0.9949195596951735\n",
            "Random Forest Test Accuracy: 0.9479695431472082\n"
          ]
        }
      ]
    }
  ]
}